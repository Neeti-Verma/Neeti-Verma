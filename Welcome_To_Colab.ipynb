{
  "cells": [
    {
      "cell_type": "markdown",
      "metadata": {
        "id": "view-in-github",
        "colab_type": "text"
      },
      "source": [
        "<a href=\"https://colab.research.google.com/github/Neeti-Verma/Neeti-Verma/blob/main/Welcome_To_Colab.ipynb\" target=\"_parent\"><img src=\"https://colab.research.google.com/assets/colab-badge.svg\" alt=\"Open In Colab\"/></a>"
      ]
    },
    {
      "cell_type": "code",
      "source": [
        "is_leap_year=lambda year : (year % 4 == 0 and year % 100 != 0) or (year % 400 == 0)\n",
        "year = int(input(\"Enter a year: \"))\n",
        "if is_leap_year(year):\n",
        "    print(year, \" is a leap year\")\n",
        "else:\n",
        "    print(year, \"is not a leap year.\")"
      ],
      "metadata": {
        "id": "04AZ5Fl4w5sh",
        "outputId": "3e9a90f0-6009-437c-e931-abe3432e6103",
        "colab": {
          "base_uri": "https://localhost:8080/"
        }
      },
      "execution_count": 1,
      "outputs": [
        {
          "output_type": "stream",
          "name": "stdout",
          "text": [
            "Enter a year: 2024\n",
            "2024  is a leap year\n"
          ]
        }
      ]
    },
    {
      "cell_type": "code",
      "source": [
        "sum= lambda x,y,z: x+y+z\n",
        "oper=input(\"Enter opertation:\")\n",
        "if oper==\"+\":\n",
        "  summ = sum(3,5,7)\n",
        "  print(summ)\n",
        "else:\n",
        "  print(\"no\")\n"
      ],
      "metadata": {
        "id": "McXgr-uyxiUL",
        "outputId": "14b45fab-2371-4200-b1c2-f14ccebf7f76",
        "colab": {
          "base_uri": "https://localhost:8080/"
        }
      },
      "execution_count": 9,
      "outputs": [
        {
          "output_type": "stream",
          "name": "stdout",
          "text": [
            "Enter opertation:+\n",
            "15\n"
          ]
        }
      ]
    },
    {
      "cell_type": "code",
      "source": [
        "# Check Whether a Number is a Prime or Not in Python\n",
        "\n",
        "num=int(input(\"Enter the number:\"))\n",
        "flag=0\n",
        "for i in range(2,num):\n",
        "    if num%i==0:\n",
        "      flag=1\n",
        "      break\n",
        "if flag==1:\n",
        "  print(f\"{num} is not prime \")\n",
        "else:\n",
        "  print(f\"{num}  is prime.\")\n"
      ],
      "metadata": {
        "id": "LAsjcl1jzDqb",
        "outputId": "c77f664c-47f1-48ec-e079-a2be66cf1efa",
        "colab": {
          "base_uri": "https://localhost:8080/"
        }
      },
      "execution_count": 23,
      "outputs": [
        {
          "output_type": "stream",
          "name": "stdout",
          "text": [
            "Enter the number:2\n",
            "2  is prime.\n"
          ]
        }
      ]
    },
    {
      "cell_type": "code",
      "source": [
        "# Find the Prime Numbers in a Given Interval in Python\n",
        "\n",
        "num=int(input(\"Enter the number for range (2,?):\"))\n",
        "flag=0\n",
        "for i in range(2,num-1):\n",
        "  for j in range(2,i):\n",
        "    if i%j==0:\n",
        "      print(f\"{i} is not prime\")\n",
        "      break\n",
        "\n"
      ],
      "metadata": {
        "id": "GG4m1mMB3XkL",
        "outputId": "d3ae7f32-1825-4dda-8334-36fb73188877",
        "colab": {
          "base_uri": "https://localhost:8080/"
        }
      },
      "execution_count": 35,
      "outputs": [
        {
          "output_type": "stream",
          "name": "stdout",
          "text": [
            "Enter the number for range (2,?):11\n",
            "4 is not prime\n",
            "6 is not prime\n",
            "8 is not prime\n",
            "9 is not prime\n"
          ]
        }
      ]
    }
  ],
  "metadata": {
    "colab": {
      "name": "Welcome To Colab",
      "provenance": [],
      "include_colab_link": true
    },
    "kernelspec": {
      "display_name": "Python 3",
      "name": "python3"
    }
  },
  "nbformat": 4,
  "nbformat_minor": 0
}